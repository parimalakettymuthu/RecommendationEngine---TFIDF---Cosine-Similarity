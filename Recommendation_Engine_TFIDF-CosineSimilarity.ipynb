{
 "cells": [
  {
   "cell_type": "code",
   "execution_count": 10,
   "metadata": {},
   "outputs": [
    {
     "data": {
      "text/plain": [
       "array([0.36325471, 0.36325471, 0.36325471, 0.36325471, 0.36325471,\n",
       "       0.36325471, 0.36325471, 0.27626457, 0.62276601, 0.62276601,\n",
       "       0.4736296 , 0.35355339, 0.35355339, 0.35355339, 0.35355339,\n",
       "       0.70710678])"
      ]
     },
     "execution_count": 10,
     "metadata": {},
     "output_type": "execute_result"
    }
   ],
   "source": [
    "from sklearn.feature_extraction.text import TfidfVectorizer\n",
    "import pandas as pd\n",
    "\n",
    "doc1 = \"Mathematics is an integral part of data science\"\n",
    "doc2 = \"Mathematics involves numbers\"\n",
    "doc3 = \"The fox jumps over the dog\"\n",
    "corpus = [doc1, doc2, doc3]\n",
    "\n",
    "#creating vectorizer object\n",
    "tfidf = TfidfVectorizer()\n",
    "\n",
    "#Creating sparse matrix of words vectors\n",
    "tfidf_matrix = tfidf.fit_transform(corpus)\n",
    "\n",
    "#display sparse matrix\n",
    "tfidf_matrix.data"
   ]
  },
  {
   "cell_type": "code",
   "execution_count": 11,
   "metadata": {},
   "outputs": [
    {
     "name": "stdout",
     "output_type": "stream",
     "text": [
      "         an      data       dog       fox  integral  involves        is  \\\n",
      "0  0.363255  0.363255  0.000000  0.000000  0.363255  0.000000  0.363255   \n",
      "1  0.000000  0.000000  0.000000  0.000000  0.000000  0.622766  0.000000   \n",
      "2  0.000000  0.000000  0.353553  0.353553  0.000000  0.000000  0.000000   \n",
      "\n",
      "      jumps  mathematics   numbers        of      over      part   science  \\\n",
      "0  0.000000     0.276265  0.000000  0.363255  0.000000  0.363255  0.363255   \n",
      "1  0.000000     0.473630  0.622766  0.000000  0.000000  0.000000  0.000000   \n",
      "2  0.353553     0.000000  0.000000  0.000000  0.353553  0.000000  0.000000   \n",
      "\n",
      "        the  \n",
      "0  0.000000  \n",
      "1  0.000000  \n",
      "2  0.707107  \n"
     ]
    }
   ],
   "source": [
    "dataframe = pd.DataFrame(tfidf_matrix.toarray(), columns=tfidf.get_feature_names_out())\n",
    "print(dataframe)"
   ]
  },
  {
   "cell_type": "code",
   "execution_count": 12,
   "metadata": {},
   "outputs": [
    {
     "name": "stdout",
     "output_type": "stream",
     "text": [
      "    an  data  dog       fox  integral  involves   is     jumps  mathematics  \\\n",
      "0  0.0   0.0  0.0  0.377964       0.0       0.0  0.0  0.377964          0.0   \n",
      "\n",
      "   numbers   of      over  part  science       the  \n",
      "0      0.0  0.0  0.377964   0.0      0.0  0.755929  \n"
     ]
    }
   ],
   "source": [
    "new_doc = \"The fox jumps over the lion\"\n",
    "new_doc_vec = tfidf.transform([new_doc])\n",
    "df_new__doc = pd.DataFrame(new_doc_vec.toarray(), columns=tfidf.get_feature_names_out())\n",
    "print(df_new__doc)"
   ]
  },
  {
   "cell_type": "code",
   "execution_count": 13,
   "metadata": {},
   "outputs": [
    {
     "name": "stdout",
     "output_type": "stream",
     "text": [
      "[[1.         0.13084708 0.        ]\n",
      " [0.13084708 1.         0.        ]\n",
      " [0.         0.         1.        ]]\n"
     ]
    }
   ],
   "source": [
    "from sklearn.metrics.pairwise import cosine_similarity\n",
    "from sklearn.feature_extraction.text import TfidfVectorizer\n",
    "\n",
    "doc1 = \"Mathematics is an integral part of data science\"\n",
    "doc2 = \"Mathematics involve numbers\"\n",
    "doc3 = \"The fox jumps over the dog\"\n",
    "\n",
    "corpus = [doc1, doc2, doc3]\n",
    "\n",
    "tfidf = TfidfVectorizer()\n",
    "\n",
    "tfidf_matrix = tfidf.fit_transform(corpus)\n",
    "\n",
    "cosine_sim = cosine_similarity(tfidf_matrix, tfidf_matrix)\n",
    "print(cosine_sim)"
   ]
  },
  {
   "cell_type": "code",
   "execution_count": 14,
   "metadata": {},
   "outputs": [
    {
     "name": "stdout",
     "output_type": "stream",
     "text": [
      "(4, 39802)\n"
     ]
    }
   ],
   "source": [
    "recipe_data = pd.read_json('recipes_raw_nosource_ar.json')\n",
    "\n",
    "print(recipe_data.shape)"
   ]
  },
  {
   "cell_type": "code",
   "execution_count": 15,
   "metadata": {},
   "outputs": [
    {
     "data": {
      "text/plain": [
       "<bound method NDFrame.keys of                                 rmK12Uau.ntP510KeImX506H6Mr6jTu  \\\n",
       "title                         Slow Cooker Chicken and Dumplings   \n",
       "ingredients   [4 skinless, boneless chicken breast halves AD...   \n",
       "instructions  Place the chicken, butter, soup, and onion in ...   \n",
       "picture_link                    55lznCYBbs2mT8BTx6BTkLhynGHzM.S   \n",
       "\n",
       "                                5ZpZE8hSVdPk2ZXo1mZTyoPWJRSCPSm  \\\n",
       "title                             Awesome Slow Cooker Pot Roast   \n",
       "ingredients   [2 (10.75 ounce) cans condensed cream of mushr...   \n",
       "instructions  In a slow cooker, mix cream of mushroom soup, ...   \n",
       "picture_link                    QyrvGdGNMBA2lDdciY0FjKu.77MM0Oe   \n",
       "\n",
       "                                clyYQv.CplpwJtjNaFGhx0VilNYqRxu  \\\n",
       "title                                      Brown Sugar Meatloaf   \n",
       "ingredients   [1/2 cup packed brown sugar ADVERTISEMENT, 1/2...   \n",
       "instructions  Preheat oven to 350 degrees F (175 degrees C)....   \n",
       "picture_link                    LVW1DI0vtlCrpAhNSEQysE9i/7rJG56   \n",
       "\n",
       "                                BmqFAmCrDHiKNwX.IQzb0U/v0mLlxFu  \\\n",
       "title                               Best Chocolate Chip Cookies   \n",
       "ingredients   [1 cup butter, softened ADVERTISEMENT, 1 cup w...   \n",
       "instructions  Preheat oven to 350 degrees F (175 degrees C)....   \n",
       "picture_link                    0SO5kdWOV94j6EfAVwMMYRM3yNN8eRi   \n",
       "\n",
       "                                N.jCksRjB4MFwbgPFQU8Kg.yF.XCtOi  \\\n",
       "title                         Homemade Mac and Cheese Casserole   \n",
       "ingredients   [8 ounces whole wheat rotini pasta ADVERTISEME...   \n",
       "instructions  Preheat oven to 350 degrees F. Line a 2-quart ...   \n",
       "picture_link                    YCnbhplMgiraW4rUXcybgSEZinSgljm   \n",
       "\n",
       "                                kq.naD.8G19M4UU9dVvJgHtpfo.l/eC  \\\n",
       "title                                       Banana Banana Bread   \n",
       "ingredients   [2 cups all-purpose flour ADVERTISEMENT, 1 tea...   \n",
       "instructions  Preheat oven to 350 degrees F (175 degrees C)....   \n",
       "picture_link                    jRnWGDXDdyOg3rta4/HVAR2rD19XubC   \n",
       "\n",
       "                                lYrgWNn00EXblOupzM3tL0jGr9O0CB2  \\\n",
       "title                               Chef John's Fisherman's Pie   \n",
       "ingredients   [For potato crust: ADVERTISEMENT, 3 russet pot...   \n",
       "instructions  Bring a large saucepan of salted water and to ...   \n",
       "picture_link                    aUca10AaD8T2yYvcLOgH/UJlR5/OhOe   \n",
       "\n",
       "                                Fu0DgGYFUGwc0BBlN6r20o/ihOVs5bO  \\\n",
       "title                                      Mom's Zucchini Bread   \n",
       "ingredients   [3 cups all-purpose flour ADVERTISEMENT, 1 tea...   \n",
       "instructions  Grease and flour two 8 x 4 inch pans. Preheat ...   \n",
       "picture_link                    YdgEVyLVffZgh9NZPN3Eqj6MaX8KdzK   \n",
       "\n",
       "                                MBRNtqELRRuv8zJH4k7Aba2bmIc2A3C  \\\n",
       "title                             The Best Rolled Sugar Cookies   \n",
       "ingredients   [1 1/2 cups butter, softened ADVERTISEMENT, 2 ...   \n",
       "instructions  In a large bowl, cream together butter and sug...   \n",
       "picture_link                    UrgvDGu4roLiho160fTVIwCUrGZna8i   \n",
       "\n",
       "                                ZPyPoMiNvgAfrKcRpH9FEYV/XsPZBsW  ...  \\\n",
       "title                                     Singapore Chili Crabs  ...   \n",
       "ingredients   [Sauce: ADVERTISEMENT, 1/2 cup ketchup ADVERTI...  ...   \n",
       "instructions  Whisk ketchup, chicken broth, egg, soy sauce, ...  ...   \n",
       "picture_link                    OFp6yXFwzlrkMQ5STffYPllxQvMVLUS  ...   \n",
       "\n",
       "                                uHHb42/tuIKsmN5U6l9AD.FdVpSFxs6  \\\n",
       "title                                       Citrus Creme Brulee   \n",
       "ingredients   [2 oranges, juiced ADVERTISEMENT, lemon, juice...   \n",
       "instructions  Preheat oven to 300 degrees F (150 degrees C)....   \n",
       "picture_link                    qE58a7Z1Au0GXvPO188iHZZVqna9hLa   \n",
       "\n",
       "                                IPAeN3L6rm2oughJpUhbG038k.ACJ0K  \\\n",
       "title                                       Honey Nutty Granola   \n",
       "ingredients   [3 cups rolled oats ADVERTISEMENT, 1 1/2 cups ...   \n",
       "instructions  Preheat oven to 300 degrees F (150 degrees C)....   \n",
       "picture_link                    qE58a7Z1Au0GXvPO188iHZZVqna9hLa   \n",
       "\n",
       "                                3UIhlTQFH5jyIaHN8zeKlK5V.94Kjwu  \\\n",
       "title                                          Salmon en Croute   \n",
       "ingredients   [1 cup watercress, or as desired ADVERTISEMENT...   \n",
       "instructions  Preheat oven to 375 degrees F (190 degrees C)....   \n",
       "picture_link                    qE58a7Z1Au0GXvPO188iHZZVqna9hLa   \n",
       "\n",
       "                                PdBxkE2gnI/.ynokkp1Hu1KLGZnGdei  \\\n",
       "title                                   Homemade Blender Butter   \n",
       "ingredients   [2 pints heavy whipping cream ADVERTISEMENT, s...   \n",
       "instructions  Pour cream into a blender. Cover and blend unt...   \n",
       "picture_link                    qE58a7Z1Au0GXvPO188iHZZVqna9hLa   \n",
       "\n",
       "                                SB46Udqc5Svsi70S1qRmRLv5tlg8Oca  \\\n",
       "title                           Gluten Free Chicken Noodle Soup   \n",
       "ingredients   [1/2 (12 ounce) box Barilla® Gluten Free Elbow...   \n",
       "instructions  Saute onions in olive oil over medium heat unt...   \n",
       "picture_link                    cWEzUSv9Ozr3b4MxNVCqJYgTjIS.kHm   \n",
       "\n",
       "                                gehEOcDPtU3SmNSXrwWwWD4ulPpUdMO  \\\n",
       "title                                   Thai-Indian Veggie Soup   \n",
       "ingredients   [2 teaspoons olive oil ADVERTISEMENT, 1/4 cup ...   \n",
       "instructions  Heat oil in a large pot over medium heat. Add ...   \n",
       "picture_link                    qE58a7Z1Au0GXvPO188iHZZVqna9hLa   \n",
       "\n",
       "                                VRAsyF.1xMBYqAVKX1biyIORH6N6qzy  \\\n",
       "title                    Coconut Milk-Free Panang Curry Chicken   \n",
       "ingredients   [2 cups light cream ADVERTISEMENT, 1/4 teaspoo...   \n",
       "instructions  Heat cream and coconut extract in a skillet or...   \n",
       "picture_link                    qE58a7Z1Au0GXvPO188iHZZVqna9hLa   \n",
       "\n",
       "                                Lf8/u.0k2029QMSQFrHS4gRsvKOQFUG  \\\n",
       "title                                         Cooked Cold Salad   \n",
       "ingredients   [3 tablespoons bacon grease ADVERTISEMENT, 2 c...   \n",
       "instructions  Heat bacon grease in a skillet over medium-hig...   \n",
       "picture_link                    qE58a7Z1Au0GXvPO188iHZZVqna9hLa   \n",
       "\n",
       "                                ay.AqX/9ysBtWHcnHoDeGAyJ5Orla8e  \\\n",
       "title                                  Easy Eggnog Creme Brulee   \n",
       "ingredients   [4 egg yolks ADVERTISEMENT, 1 tablespoon white...   \n",
       "instructions  Preheat oven to 350 degrees F (175 degrees C)....   \n",
       "picture_link                    qE58a7Z1Au0GXvPO188iHZZVqna9hLa   \n",
       "\n",
       "                                2Q3Zpfgt/PUwn1YABjJ5A9T3ZW8xwVa  \n",
       "title                              Super Power Stovetop Granola  \n",
       "ingredients   [1/4 cup canola oil ADVERTISEMENT, 3 cups quic...  \n",
       "instructions  Heat 1/4 cup canola oil in large skillet over ...  \n",
       "picture_link                    qE58a7Z1Au0GXvPO188iHZZVqna9hLa  \n",
       "\n",
       "[4 rows x 39802 columns]>"
      ]
     },
     "execution_count": 15,
     "metadata": {},
     "output_type": "execute_result"
    }
   ],
   "source": [
    "recipe_data.keys"
   ]
  },
  {
   "cell_type": "code",
   "execution_count": 17,
   "metadata": {},
   "outputs": [
    {
     "ename": "KeyError",
     "evalue": "'instructions'",
     "output_type": "error",
     "traceback": [
      "\u001b[1;31m---------------------------------------------------------------------------\u001b[0m",
      "\u001b[1;31mKeyError\u001b[0m                                  Traceback (most recent call last)",
      "File \u001b[1;32m~\\AppData\\Local\\Packages\\PythonSoftwareFoundation.Python.3.11_qbz5n2kfra8p0\\LocalCache\\local-packages\\Python311\\site-packages\\pandas\\core\\indexes\\base.py:3805\u001b[0m, in \u001b[0;36mIndex.get_loc\u001b[1;34m(self, key)\u001b[0m\n\u001b[0;32m   3804\u001b[0m \u001b[38;5;28;01mtry\u001b[39;00m:\n\u001b[1;32m-> 3805\u001b[0m     \u001b[38;5;28;01mreturn\u001b[39;00m \u001b[38;5;28;43mself\u001b[39;49m\u001b[38;5;241;43m.\u001b[39;49m\u001b[43m_engine\u001b[49m\u001b[38;5;241;43m.\u001b[39;49m\u001b[43mget_loc\u001b[49m\u001b[43m(\u001b[49m\u001b[43mcasted_key\u001b[49m\u001b[43m)\u001b[49m\n\u001b[0;32m   3806\u001b[0m \u001b[38;5;28;01mexcept\u001b[39;00m \u001b[38;5;167;01mKeyError\u001b[39;00m \u001b[38;5;28;01mas\u001b[39;00m err:\n",
      "File \u001b[1;32mindex.pyx:167\u001b[0m, in \u001b[0;36mpandas._libs.index.IndexEngine.get_loc\u001b[1;34m()\u001b[0m\n",
      "File \u001b[1;32mindex.pyx:196\u001b[0m, in \u001b[0;36mpandas._libs.index.IndexEngine.get_loc\u001b[1;34m()\u001b[0m\n",
      "File \u001b[1;32mpandas\\\\_libs\\\\hashtable_class_helper.pxi:7081\u001b[0m, in \u001b[0;36mpandas._libs.hashtable.PyObjectHashTable.get_item\u001b[1;34m()\u001b[0m\n",
      "File \u001b[1;32mpandas\\\\_libs\\\\hashtable_class_helper.pxi:7089\u001b[0m, in \u001b[0;36mpandas._libs.hashtable.PyObjectHashTable.get_item\u001b[1;34m()\u001b[0m\n",
      "\u001b[1;31mKeyError\u001b[0m: 'instructions'",
      "\nThe above exception was the direct cause of the following exception:\n",
      "\u001b[1;31mKeyError\u001b[0m                                  Traceback (most recent call last)",
      "Cell \u001b[1;32mIn[17], line 1\u001b[0m\n\u001b[1;32m----> 1\u001b[0m corpus \u001b[38;5;241m=\u001b[39m \u001b[43mrecipe_data\u001b[49m\u001b[43m[\u001b[49m\u001b[38;5;124;43m'\u001b[39;49m\u001b[38;5;124;43minstructions\u001b[39;49m\u001b[38;5;124;43m'\u001b[39;49m\u001b[43m]\u001b[49m\u001b[38;5;241m.\u001b[39mtolist()\n",
      "File \u001b[1;32m~\\AppData\\Local\\Packages\\PythonSoftwareFoundation.Python.3.11_qbz5n2kfra8p0\\LocalCache\\local-packages\\Python311\\site-packages\\pandas\\core\\frame.py:4102\u001b[0m, in \u001b[0;36mDataFrame.__getitem__\u001b[1;34m(self, key)\u001b[0m\n\u001b[0;32m   4100\u001b[0m \u001b[38;5;28;01mif\u001b[39;00m \u001b[38;5;28mself\u001b[39m\u001b[38;5;241m.\u001b[39mcolumns\u001b[38;5;241m.\u001b[39mnlevels \u001b[38;5;241m>\u001b[39m \u001b[38;5;241m1\u001b[39m:\n\u001b[0;32m   4101\u001b[0m     \u001b[38;5;28;01mreturn\u001b[39;00m \u001b[38;5;28mself\u001b[39m\u001b[38;5;241m.\u001b[39m_getitem_multilevel(key)\n\u001b[1;32m-> 4102\u001b[0m indexer \u001b[38;5;241m=\u001b[39m \u001b[38;5;28;43mself\u001b[39;49m\u001b[38;5;241;43m.\u001b[39;49m\u001b[43mcolumns\u001b[49m\u001b[38;5;241;43m.\u001b[39;49m\u001b[43mget_loc\u001b[49m\u001b[43m(\u001b[49m\u001b[43mkey\u001b[49m\u001b[43m)\u001b[49m\n\u001b[0;32m   4103\u001b[0m \u001b[38;5;28;01mif\u001b[39;00m is_integer(indexer):\n\u001b[0;32m   4104\u001b[0m     indexer \u001b[38;5;241m=\u001b[39m [indexer]\n",
      "File \u001b[1;32m~\\AppData\\Local\\Packages\\PythonSoftwareFoundation.Python.3.11_qbz5n2kfra8p0\\LocalCache\\local-packages\\Python311\\site-packages\\pandas\\core\\indexes\\base.py:3812\u001b[0m, in \u001b[0;36mIndex.get_loc\u001b[1;34m(self, key)\u001b[0m\n\u001b[0;32m   3807\u001b[0m     \u001b[38;5;28;01mif\u001b[39;00m \u001b[38;5;28misinstance\u001b[39m(casted_key, \u001b[38;5;28mslice\u001b[39m) \u001b[38;5;129;01mor\u001b[39;00m (\n\u001b[0;32m   3808\u001b[0m         \u001b[38;5;28misinstance\u001b[39m(casted_key, abc\u001b[38;5;241m.\u001b[39mIterable)\n\u001b[0;32m   3809\u001b[0m         \u001b[38;5;129;01mand\u001b[39;00m \u001b[38;5;28many\u001b[39m(\u001b[38;5;28misinstance\u001b[39m(x, \u001b[38;5;28mslice\u001b[39m) \u001b[38;5;28;01mfor\u001b[39;00m x \u001b[38;5;129;01min\u001b[39;00m casted_key)\n\u001b[0;32m   3810\u001b[0m     ):\n\u001b[0;32m   3811\u001b[0m         \u001b[38;5;28;01mraise\u001b[39;00m InvalidIndexError(key)\n\u001b[1;32m-> 3812\u001b[0m     \u001b[38;5;28;01mraise\u001b[39;00m \u001b[38;5;167;01mKeyError\u001b[39;00m(key) \u001b[38;5;28;01mfrom\u001b[39;00m \u001b[38;5;21;01merr\u001b[39;00m\n\u001b[0;32m   3813\u001b[0m \u001b[38;5;28;01mexcept\u001b[39;00m \u001b[38;5;167;01mTypeError\u001b[39;00m:\n\u001b[0;32m   3814\u001b[0m     \u001b[38;5;66;03m# If we have a listlike key, _check_indexing_error will raise\u001b[39;00m\n\u001b[0;32m   3815\u001b[0m     \u001b[38;5;66;03m#  InvalidIndexError. Otherwise we fall through and re-raise\u001b[39;00m\n\u001b[0;32m   3816\u001b[0m     \u001b[38;5;66;03m#  the TypeError.\u001b[39;00m\n\u001b[0;32m   3817\u001b[0m     \u001b[38;5;28mself\u001b[39m\u001b[38;5;241m.\u001b[39m_check_indexing_error(key)\n",
      "\u001b[1;31mKeyError\u001b[0m: 'instructions'"
     ]
    }
   ],
   "source": [
    "corpus = recipe_data['instructions'].tolist()\n"
   ]
  },
  {
   "cell_type": "code",
   "execution_count": null,
   "metadata": {},
   "outputs": [],
   "source": []
  }
 ],
 "metadata": {
  "kernelspec": {
   "display_name": "Python 3",
   "language": "python",
   "name": "python3"
  },
  "language_info": {
   "codemirror_mode": {
    "name": "ipython",
    "version": 3
   },
   "file_extension": ".py",
   "mimetype": "text/x-python",
   "name": "python",
   "nbconvert_exporter": "python",
   "pygments_lexer": "ipython3",
   "version": "3.11.9"
  }
 },
 "nbformat": 4,
 "nbformat_minor": 2
}
